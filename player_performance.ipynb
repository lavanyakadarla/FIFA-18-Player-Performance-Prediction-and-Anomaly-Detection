{
  "nbformat": 4,
  "nbformat_minor": 0,
  "metadata": {
    "colab": {
      "provenance": [],
      "gpuType": "T4"
    },
    "kernelspec": {
      "name": "python3",
      "display_name": "Python 3"
    },
    "language_info": {
      "name": "python"
    },
    "accelerator": "GPU"
  },
  "cells": [
    {
      "cell_type": "code",
      "execution_count": 36,
      "metadata": {
        "id": "nkd2VNav-Ow1"
      },
      "outputs": [],
      "source": [
        "from pyspark.sql import SparkSession\n",
        "from pyspark.sql.functions import col, when, regexp_replace, udf, mean, split, desc, min, max\n",
        "from pyspark.sql.types import DoubleType, IntegerType\n",
        "from pyspark.ml.feature import VectorAssembler, StandardScaler, OneHotEncoder, PCA, StringIndexer, MinMaxScaler\n",
        "from pyspark.ml.regression import RandomForestRegressor\n",
        "from pyspark.ml.classification import RandomForestClassifier\n",
        "from pyspark.ml import Pipeline\n",
        "from pyspark.ml.evaluation import RegressionEvaluator\n",
        "from pyspark.ml.clustering import BisectingKMeans\n",
        "from pyspark.ml.evaluation import ClusteringEvaluator\n",
        "from pyspark.ml.tuning import ParamGridBuilder, CrossValidator\n",
        "import matplotlib.pyplot as plt\n",
        "import pandas as pd"
      ]
    },
    {
      "cell_type": "markdown",
      "source": [
        "1.Imports necessary PySpark SQL functions to handle and\n",
        "   process data (col, mean, split, desc).\n",
        "2.Defines data types (DoubleType, IntegerType) for\n",
        "  numerical processing.\n",
        "3.Loads ML features and preprocessing tools\n",
        "  (VectorAssembler, StandardScaler, OneHotEncoder, PCA, etc.).\n",
        "4.Includes machine learning models like\n",
        "   RandomForestRegressor and RandomForestClassifier.\n",
        "5.Implements model evaluatio(RegressionEvaluator)     and   clustering (BisectingKMeans).\n",
        "6.Uses hyperparameter tuning (ParamGridBuilder,\n",
        "     CrossValidator) for better model optimization.\n",
        "7.Matplotlib and Pandas for data visualization and\n",
        "   result analysis."
      ],
      "metadata": {
        "id": "5I5cDlm9MxcX"
      }
    },
    {
      "cell_type": "markdown",
      "source": [
        "**Initialize Spark Session**"
      ],
      "metadata": {
        "id": "v-FphcZpC4Xi"
      }
    },
    {
      "cell_type": "code",
      "source": [
        "spark = SparkSession.builder \\\n",
        "    .appName(\"FIFA18_PlayerPerformance\") \\\n",
        "    .getOrCreate()\n"
      ],
      "metadata": {
        "id": "-I3IWWcj7mti"
      },
      "execution_count": 37,
      "outputs": []
    },
    {
      "cell_type": "markdown",
      "source": [
        "**Load and Merge Datasets**\n",
        "Loads multiple datasets in CSV format (spark.read.csv).\n",
        "Joins them on \"ID\" using inner join, ensuring only matching records are merged.Removes duplicate columns to avoid redundant data.Converts the dataframe from Spark to Pandas and back to Spark to handle duplicate removal."
      ],
      "metadata": {
        "id": "EhOd4czMDCZC"
      }
    },
    {
      "cell_type": "code",
      "source": [
        "# Load datasets\n",
        "complete_df = spark.read.csv(\"/content/CompleteDataset.csv\", header=True, inferSchema=True)\n",
        "attribute_df = spark.read.csv(\"/content/PlayerAttributeData.csv\", header=True, inferSchema=True)\n",
        "personal_df = spark.read.csv(\"/content/PlayerPersonalData.csv\", header=True, inferSchema=True)\n",
        "position_df = spark.read.csv(\"/content/PlayerPlayingPositionData.csv\", header=True, inferSchema=True)\n",
        "\n",
        "# Join datasets using \"ID\" column\n",
        "df = complete_df \\\n",
        "    .join(attribute_df, on=\"ID\", how=\"inner\") \\\n",
        "    .join(personal_df, on=\"ID\", how=\"inner\") \\\n",
        "    .join(position_df, on=\"ID\", how=\"inner\")\n",
        "# Remove duplicate columns\n",
        "df = df.toPandas()\n",
        "df = df.loc[:, ~df.columns.duplicated()]\n",
        "df = spark.createDataFrame(df)\n",
        "\n",
        "# Print column count\n",
        "print(f\"Total number of columns: {len(df.columns)}\")"
      ],
      "metadata": {
        "colab": {
          "base_uri": "https://localhost:8080/"
        },
        "id": "WrpaWIWQDHOH",
        "outputId": "afcf5410-5acb-4510-a854-752adef49687"
      },
      "execution_count": 38,
      "outputs": [
        {
          "output_type": "stream",
          "name": "stdout",
          "text": [
            "Total number of columns: 76\n"
          ]
        }
      ]
    },
    {
      "cell_type": "markdown",
      "source": [
        "**Handle Missing Values**"
      ],
      "metadata": {
        "id": "Kwcj4a3NDTnN"
      }
    },
    {
      "cell_type": "markdown",
      "source": [
        "Handles salary values by removing currency symbols (€).\n",
        "Converts M (millions) and K (thousands) to numerical values.Registers User Defined Function (UDF) in Spark.\n",
        "Applies transformation to convert \"Value\" and \"Wage\" to numeric types."
      ],
      "metadata": {
        "id": "-WHP9Lk2OrVV"
      }
    },
    {
      "cell_type": "code",
      "source": [
        "# Function to convert monetary values (€105M → 105000000)\n",
        "def convert_money(value):\n",
        "    if value is None or value == \"\":\n",
        "        return None\n",
        "    value = value.replace(\"€\", \"\").replace(\"M\", \"000000\").replace(\"K\", \"000\")\n",
        "    return float(value)\n",
        "\n",
        "# Register UDF\n",
        "convert_money_udf = udf(convert_money, DoubleType())\n",
        "\n",
        "# Apply transformations\n",
        "df = df.withColumn(\"Value\", convert_money_udf(col(\"Value\")))\n",
        "df = df.withColumn(\"Wage\", convert_money_udf(col(\"Wage\")))\n",
        "\n",
        "df.select(\"Value\", \"Wage\").show(10)"
      ],
      "metadata": {
        "colab": {
          "base_uri": "https://localhost:8080/"
        },
        "id": "CVZpJlqnDlr9",
        "outputId": "3d61b5a2-6b1a-467b-bffd-860c9dae2dca"
      },
      "execution_count": 39,
      "outputs": [
        {
          "output_type": "stream",
          "name": "stdout",
          "text": [
            "+------+--------+\n",
            "| Value|    Wage|\n",
            "+------+--------+\n",
            "|  95.5|565000.0|\n",
            "|1.05E8|565000.0|\n",
            "|1.23E8|280000.0|\n",
            "| 9.7E7|510000.0|\n",
            "| 6.1E7|230000.0|\n",
            "| 9.2E7|355000.0|\n",
            "|  64.5|215000.0|\n",
            "|  90.5|295000.0|\n",
            "| 7.9E7|340000.0|\n",
            "| 7.7E7|275000.0|\n",
            "+------+--------+\n",
            "only showing top 10 rows\n",
            "\n"
          ]
        }
      ]
    },
    {
      "cell_type": "markdown",
      "source": [
        "Finds columns with values like \"80-90\".\n",
        "Splits the values into two numbers and computes the mean.Computes mean value for missing numerical columns and fills missing values.Finds most common (mode) value for missing categorical data and fills them.If more than 50% of values are missing, the column is dropped."
      ],
      "metadata": {
        "id": "4MKUgyA6OwzC"
      }
    },
    {
      "cell_type": "code",
      "source": [
        "def fix_range_values(df):\n",
        "    for column in df.columns:\n",
        "        df = df.withColumn(column, when(\n",
        "            col(column).rlike(\"^[0-9]+[-+][0-9]+$\"),  # Check for \"X-Y\" or \"X+Y\" format\n",
        "            (split(col(column), \"[-+]\").getItem(0).cast(\"int\") +\n",
        "             split(col(column), \"[-+]\").getItem(1).cast(\"int\")) / 2  # Compute mean of values\n",
        "        ).otherwise(col(column)))\n",
        "    return df"
      ],
      "metadata": {
        "id": "aNlOAIM__Tp3"
      },
      "execution_count": 40,
      "outputs": []
    },
    {
      "cell_type": "code",
      "source": [
        "df = fix_range_values(df)"
      ],
      "metadata": {
        "id": "Gcs5DMt4EDdv"
      },
      "execution_count": 41,
      "outputs": []
    },
    {
      "cell_type": "code",
      "source": [
        "def fill_missing_numerical(df):\n",
        "    for column in df.columns:\n",
        "        # Check if column is numeric\n",
        "        if dict(df.dtypes)[column] in ['int', 'double']:\n",
        "            mean_value = df.select(mean(col(column))).collect()[0][0]\n",
        "            if mean_value is not None:  # Only fill if mean is valid\n",
        "                df = df.fillna({column: mean_value})\n",
        "    return df\n",
        "def fill_missing_categorical(df):\n",
        "    for column in df.columns:\n",
        "        # Check if column is categorical (string type)\n",
        "        if dict(df.dtypes)[column] == 'string':\n",
        "            mode_row = df.groupBy(column).count().orderBy(desc(\"count\")).first()\n",
        "\n",
        "            if mode_row and mode_row[0] is not None:  # Check if mode exists\n",
        "                df = df.fillna({column: mode_row[0]})\n",
        "            else:\n",
        "                df = df.fillna({column: \"Unknown\"})  # Fill with 'Unknown' if no mode found\n",
        "\n",
        "    return df\n",
        "def drop_high_missing_columns(df, threshold=0.5):\n",
        "    total_rows = df.count()\n",
        "    for column in df.columns:\n",
        "        missing_count = df.filter(col(column).isNull()).count()\n",
        "        if (missing_count / total_rows) > threshold:  # Drop if more than 50% missing\n",
        "            df = df.drop(column)\n",
        "    return df\n",
        "df = fill_missing_numerical(df)\n",
        "df = fill_missing_categorical(df)\n",
        "df = drop_high_missing_columns(df)"
      ],
      "metadata": {
        "id": "cYmUgZ2-_pJ0"
      },
      "execution_count": 42,
      "outputs": []
    },
    {
      "cell_type": "markdown",
      "source": [
        "**One-Hot Encoding Categorical Features**\n",
        "\n",
        "Converts categorical variables into numerical labels using StringIndexer.Applies One-Hot Encoding to transform categorical columns into numerical vectors."
      ],
      "metadata": {
        "id": "sIransKMEuV8"
      }
    },
    {
      "cell_type": "code",
      "source": [
        "categorical_columns = [\"Nationality\", \"Club\", \"Preferred Positions\"]\n",
        "indexed_columns = [col + \"_index\" for col in categorical_columns]\n",
        "encoded_columns = [col + \"_encoded\" for col in categorical_columns]\n",
        "\n",
        "indexers = [StringIndexer(inputCol=col, outputCol=idx_col, handleInvalid=\"keep\") for col, idx_col in zip(categorical_columns, indexed_columns)]\n",
        "encoders = [OneHotEncoder(inputCol=idx_col, outputCol=enc_col) for idx_col, enc_col in zip(indexed_columns, encoded_columns)]\n",
        "\n",
        "pipeline = Pipeline(stages=indexers + encoders)\n",
        "df = pipeline.fit(df).transform(df)\n"
      ],
      "metadata": {
        "id": "vhWZvpm6ExYs"
      },
      "execution_count": 43,
      "outputs": []
    },
    {
      "cell_type": "markdown",
      "source": [
        "**Convert Numerical Columns from String to Double**\n",
        "\n",
        "FIFA 18  dataset stores numerical attributes as strings (e.g., \"78+\" or \"85-90\"), which cannot be used directly in ML models.This step ensures all skill attributes are numerical so they can be processed correctly."
      ],
      "metadata": {
        "id": "wQO895RCFCBE"
      }
    },
    {
      "cell_type": "code",
      "source": [
        "# Convert skill attributes from string to numerical\n",
        "skill_columns = [\"Acceleration\", \"Aggression\", \"Agility\", \"Balance\", \"Ball control\", \"Composure\", \"Crossing\",\n",
        "    \"Curve\", \"Dribbling\", \"Finishing\", \"Free kick accuracy\", \"GK diving\", \"GK handling\", \"GK kicking\",\n",
        "    \"GK positioning\", \"GK reflexes\", \"Heading accuracy\", \"Interceptions\", \"Jumping\", \"Long passing\",\n",
        "    \"Long shots\", \"Marking\", \"Penalties\", \"Positioning\", \"Reactions\", \"Short passing\", \"Shot power\",\n",
        "    \"Sliding tackle\", \"Sprint speed\", \"Stamina\", \"Standing tackle\", \"Strength\", \"Vision\", \"Volleys\"]\n",
        "\n",
        "for col_name in skill_columns:\n",
        "    df = df.withColumn(col_name, regexp_replace(col(col_name), \"[^0-9]\", \"\").cast(\"double\"))"
      ],
      "metadata": {
        "id": "C0hSNo72FEUU"
      },
      "execution_count": 44,
      "outputs": []
    },
    {
      "cell_type": "code",
      "source": [
        "feature_columns = [\"Dribbling\", \"Long passing\",\"Short passing\", \"Agility\", \"Balance\", \"Sprint speed\", \"Ball control\",\n",
        "            \"Reactions\", \"Stamina\", \"Vision\", \"Composure\", \"Strength\", \"Age\", \"Potential\"]\n",
        "\n"
      ],
      "metadata": {
        "id": "w4Xrq89TBzFC"
      },
      "execution_count": 45,
      "outputs": []
    },
    {
      "cell_type": "markdown",
      "source": [
        "**Normalization & Standardization**\n",
        "\n",
        "Converts multiple individual numerical columns into a single feature vector.Brings all features to the same scale, preventing large-valued features from dominating.Improves model performance, especially for algorithms sensitive to magnitude differences."
      ],
      "metadata": {
        "id": "F0ZTp9btFuIe"
      }
    },
    {
      "cell_type": "code",
      "source": [
        "# Assemble features before normalization\n",
        "assembler = VectorAssembler(inputCols=feature_columns, outputCol=\"features\")\n",
        "df = assembler.transform(df)\n",
        "\n",
        "# Apply MinMaxScaler for Normalization (scales values between 0 and 1)\n",
        "scaler = MinMaxScaler(inputCol=\"features\", outputCol=\"normalizedFeatures\")\n",
        "df = scaler.fit(df).transform(df)\n",
        "\n",
        "# Apply StandardScaler for Standardization (zero mean and unit variance)\n",
        "std_scaler = StandardScaler(inputCol=\"normalizedFeatures\", outputCol=\"scaledFeatures\", withMean=True, withStd=True)\n",
        "df = std_scaler.fit(df).transform(df)\n",
        "\n",
        "# Apply PCA for dimensionality reduction\n",
        "pca = PCA(k=10, inputCol=\"scaledFeatures\", outputCol=\"pcaFeatures\")\n",
        "df = pca.fit(df).transform(df)\n"
      ],
      "metadata": {
        "id": "DJP6LpWgFuum"
      },
      "execution_count": 46,
      "outputs": []
    },
    {
      "cell_type": "markdown",
      "source": [
        "**Train & Evaluate Machine Learning Models**\n",
        "Splits the dataset (80% Train, 20% Test).\n",
        "Trains a Random Forest Regression Model.\n",
        "Evaluates performance using RMSE (Root Mean Square Error)."
      ],
      "metadata": {
        "id": "-JSixyCVGCOU"
      }
    },
    {
      "cell_type": "code",
      "source": [
        "# Split dataset\n",
        "train_df, test_df = df.randomSplit([0.8, 0.2], seed=42)\n",
        "\n",
        "# Train Random Forest Model\n",
        "rf = RandomForestRegressor(featuresCol=\"pcaFeatures\", labelCol=\"Overall\", numTrees=100)\n",
        "rf_model = rf.fit(train_df)\n",
        "rf_predictions = rf_model.transform(test_df)\n",
        "\n",
        "# Evaluate model performance using RMSE\n",
        "evaluator = RegressionEvaluator(labelCol=\"Overall\", predictionCol=\"prediction\", metricName=\"rmse\")\n",
        "rf_rmse = evaluator.evaluate(rf_predictions)\n",
        "print(f\"Random Forest RMSE: {rf_rmse}\")\n"
      ],
      "metadata": {
        "colab": {
          "base_uri": "https://localhost:8080/"
        },
        "id": "7Lr5rSwzF6Td",
        "outputId": "d92fb394-025a-48ea-b886-6a338574cb9b"
      },
      "execution_count": 47,
      "outputs": [
        {
          "output_type": "stream",
          "name": "stdout",
          "text": [
            "Random Forest RMSE: 3.047015244641721\n"
          ]
        }
      ]
    },
    {
      "cell_type": "markdown",
      "source": [
        "**Hyperparameter Tuning with Cross-Validation**"
      ],
      "metadata": {
        "id": "9PQnD0rdGN_7"
      }
    },
    {
      "cell_type": "markdown",
      "source": [
        "Bellow code performs hyperparameter tuning for a Random Forest model using Cross-Validation (CV) to find the best combination of tree count (numTrees) and tree depth (maxDepth). It trains multiple models with different parameter settings on train_df, selects the best model, and makes predictions on test_df. Finally, it evaluates the Root Mean Squared Error (RMSE) to measure the model's prediction accuracy."
      ],
      "metadata": {
        "id": "sPsIY-rxlDOY"
      }
    },
    {
      "cell_type": "code",
      "source": [
        "paramGrid = (ParamGridBuilder()\n",
        "             .addGrid(rf.numTrees, [50, 100])\n",
        "             .addGrid(rf.maxDepth, [5, 10])\n",
        "             .build())\n",
        "\n",
        "cv = CrossValidator(estimator=rf, estimatorParamMaps=paramGrid, evaluator=evaluator, numFolds=5)\n",
        "cv_model = cv.fit(train_df)\n",
        "cv_predictions = cv_model.transform(test_df)\n",
        "cv_rmse = evaluator.evaluate(cv_predictions)\n",
        "print(f\"Tuned Random Forest RMSE: {cv_rmse}\")\n"
      ],
      "metadata": {
        "colab": {
          "base_uri": "https://localhost:8080/"
        },
        "id": "_KdH_E_IGJ6x",
        "outputId": "237e3e72-38ae-4a64-93f4-78e87c6627e5"
      },
      "execution_count": 48,
      "outputs": [
        {
          "output_type": "stream",
          "name": "stdout",
          "text": [
            "Tuned Random Forest RMSE: 2.0744690567514863\n"
          ]
        }
      ]
    },
    {
      "cell_type": "markdown",
      "source": [
        "**Visualizing Model Performance**"
      ],
      "metadata": {
        "id": "achXYKQ2GXdS"
      }
    },
    {
      "cell_type": "code",
      "source": [
        "predictions_pd = cv_predictions.select(\"Overall\", \"prediction\").toPandas()\n",
        "\n",
        "plt.figure(figsize=(6,6))\n",
        "plt.scatter(predictions_pd[\"Overall\"], predictions_pd[\"prediction\"], alpha=0.6)\n",
        "plt.xlabel(\"Actual Performance\")\n",
        "plt.ylabel(\"Predicted Performance\")\n",
        "plt.title(\"Player Performance Prediction\")\n",
        "plt.show()\n"
      ],
      "metadata": {
        "colab": {
          "base_uri": "https://localhost:8080/",
          "height": 564
        },
        "id": "wqXaaqi3GZR4",
        "outputId": "d4922fd4-3842-423f-9bae-516453a4f9ef"
      },
      "execution_count": 49,
      "outputs": [
        {
          "output_type": "display_data",
          "data": {
            "text/plain": [
              "<Figure size 600x600 with 1 Axes>"
            ],
            "image/png": "[encoded data removed]"
          },
          "metadata": {}
        }
      ]
    },
    {
      "cell_type": "markdown",
      "source": [
        "The scatter plot helps visualize how well the model predicts player performance, with points aligning along the diagonal indicating accurate predictions. By training on historical player data, the model can track performance trends over multiple seasons, identifying rising stars (above the line) or declining players (below the line). This approach allows teams to forecast future player ratings based on skill evolution, training impact, and aging effects"
      ],
      "metadata": {
        "id": "UzGu63bNcqwg"
      }
    }
  ]
}