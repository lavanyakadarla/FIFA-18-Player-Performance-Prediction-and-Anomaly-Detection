{
  "cells": [
    {
      "cell_type": "code",
      "execution_count": 15,
      "metadata": {
        "id": "nkd2VNav-Ow1"
      },
      "outputs": [],
      "source": [
        "from pyspark.sql import SparkSession\n",
        "from pyspark.sql.functions import col, when, regexp_replace, udf, mean, split, desc, min, max\n",
        "from pyspark.sql.types import DoubleType, IntegerType\n",
        "from pyspark.ml.feature import VectorAssembler, StandardScaler, OneHotEncoder, PCA, StringIndexer, MinMaxScaler\n",
        "from pyspark.ml.regression import RandomForestRegressor\n",
        "from pyspark.ml.classification import RandomForestClassifier\n",
        "from pyspark.ml import Pipeline\n",
        "from pyspark.ml.evaluation import RegressionEvaluator\n",
        "from pyspark.ml.clustering import KMeans\n",
        "from pyspark.ml.evaluation import ClusteringEvaluator\n",
        "from pyspark.ml.tuning import ParamGridBuilder, CrossValidator\n",
        "import matplotlib.pyplot as plt\n",
        "import pandas as pd"
      ]
    },
    {
      "cell_type": "markdown",
      "source": [
        "1.Imports necessary PySpark SQL functions to handle and process data (col, mean, split, desc). 2.Defines data types (DoubleType, IntegerType) for numerical processing. 3.Loads ML features and preprocessing tools (VectorAssembler, StandardScaler, OneHotEncoder, PCA, etc.). 4.Includes machine learning models like RandomForestRegressor and RandomForestClassifier. 5.Implements model evaluatio(RegressionEvaluator) and clustering (BisectingKMeans). 6.Uses hyperparameter tuning (ParamGridBuilder, CrossValidator) for better model optimization. 7.Matplotlib and Pandas for data visualization and result analysis."
      ],
      "metadata": {
        "id": "0i0MoK3lfcwu"
      }
    },
    {
      "cell_type": "markdown",
      "source": [
        "**Initialize Spark Session**"
      ],
      "metadata": {
        "id": "IWZoZEMgfjK7"
      }
    },
    {
      "cell_type": "code",
      "source": [
        "spark = SparkSession.builder \\\n",
        "    .appName(\"FIFA18_PlayerPerformance\") \\\n",
        "    .getOrCreate()\n"
      ],
      "metadata": {
        "id": "fQP-bwiDfY6N"
      },
      "execution_count": null,
      "outputs": []
    },
    {
      "cell_type": "markdown",
      "source": [
        "Load and Merge Datasets Loads multiple datasets in CSV format (spark.read.csv). Joins them on \"ID\" using inner join, ensuring only matching records are merged.Removes duplicate columns to avoid redundant data.Converts the dataframe from Spark to Pandas and back to Spark to handle duplicate removal."
      ],
      "metadata": {
        "id": "yov2aCYQfooy"
      }
    },
    {
      "cell_type": "code",
      "execution_count": 17,
      "metadata": {
        "colab": {
          "base_uri": "https://localhost:8080/"
        },
        "id": "WrpaWIWQDHOH",
        "outputId": "8cb7a7d9-343b-4543-a573-1277e4774f72"
      },
      "outputs": [
        {
          "output_type": "stream",
          "name": "stdout",
          "text": [
            "Total number of columns: 76\n"
          ]
        }
      ],
      "source": [
        "# Load datasets\n",
        "complete_df = spark.read.csv(\"/content/CompleteDataset.csv\", header=True, inferSchema=True)\n",
        "attribute_df = spark.read.csv(\"/content/PlayerAttributeData.csv\", header=True, inferSchema=True)\n",
        "personal_df = spark.read.csv(\"/content/PlayerPersonalData.csv\", header=True, inferSchema=True)\n",
        "position_df = spark.read.csv(\"/content/PlayerPlayingPositionData.csv\", header=True, inferSchema=True)\n",
        "\n",
        "# Join datasets using \"ID\" column\n",
        "df = complete_df \\\n",
        "    .join(attribute_df, on=\"ID\", how=\"inner\") \\\n",
        "    .join(personal_df, on=\"ID\", how=\"inner\") \\\n",
        "    .join(position_df, on=\"ID\", how=\"inner\")\n",
        "# Remove duplicate columns\n",
        "df = df.toPandas()\n",
        "df = df.loc[:, ~df.columns.duplicated()]\n",
        "df = spark.createDataFrame(df)\n",
        "\n",
        "# Print column count\n",
        "print(f\"Total number of columns: {len(df.columns)}\")"
      ]
    },
    {
      "cell_type": "markdown",
      "source": [
        "**Handle Missing Values**"
      ],
      "metadata": {
        "id": "tYCMRzLuf0b_"
      }
    },
    {
      "cell_type": "markdown",
      "source": [
        "Handles salary values by removing currency symbols (€). Converts M (millions) and K (thousands) to numerical values.Registers User Defined Function (UDF) in Spark. Applies transformation to convert \"Value\" and \"Wage\" to numeric types."
      ],
      "metadata": {
        "id": "ivEQqawGf3zx"
      }
    },
    {
      "cell_type": "code",
      "execution_count": 18,
      "metadata": {
        "colab": {
          "base_uri": "https://localhost:8080/"
        },
        "id": "CVZpJlqnDlr9",
        "outputId": "9d97f79d-f4e7-4a6c-df69-2cd136e4a0ac"
      },
      "outputs": [
        {
          "output_type": "stream",
          "name": "stdout",
          "text": [
            "+------+--------+\n",
            "| Value|    Wage|\n",
            "+------+--------+\n",
            "|  95.5|565000.0|\n",
            "|1.05E8|565000.0|\n",
            "|1.23E8|280000.0|\n",
            "| 9.7E7|510000.0|\n",
            "| 6.1E7|230000.0|\n",
            "| 9.2E7|355000.0|\n",
            "|  64.5|215000.0|\n",
            "|  90.5|295000.0|\n",
            "| 7.9E7|340000.0|\n",
            "| 7.7E7|275000.0|\n",
            "+------+--------+\n",
            "only showing top 10 rows\n",
            "\n"
          ]
        }
      ],
      "source": [
        "# Function to convert monetary values (€105M → 105000000)\n",
        "def convert_money(value):\n",
        "    if value is None or value == \"\":\n",
        "        return None\n",
        "    value = value.replace(\"€\", \"\").replace(\"M\", \"000000\").replace(\"K\", \"000\")\n",
        "    return float(value)\n",
        "\n",
        "# Register UDF\n",
        "convert_money_udf = udf(convert_money, DoubleType())\n",
        "\n",
        "# Apply transformations\n",
        "df = df.withColumn(\"Value\", convert_money_udf(col(\"Value\")))\n",
        "df = df.withColumn(\"Wage\", convert_money_udf(col(\"Wage\")))\n",
        "\n",
        "df.select(\"Value\", \"Wage\").show(10)"
      ]
    },
    {
      "cell_type": "markdown",
      "source": [
        "Finds columns with values like \"80-90\". Splits the values into two numbers and computes the mean.Computes mean value for missing numerical columns and fills missing values.Finds most common (mode) value for missing categorical data and fills them.If more than 50% of values are missing, the column is dropped."
      ],
      "metadata": {
        "id": "9dUCbimggFK4"
      }
    },
    {
      "cell_type": "code",
      "execution_count": 19,
      "metadata": {
        "id": "aNlOAIM__Tp3"
      },
      "outputs": [],
      "source": [
        "def fix_range_values(df):\n",
        "    for column in df.columns:\n",
        "        df = df.withColumn(column, when(\n",
        "            col(column).rlike(\"^[0-9]+[-+][0-9]+$\"),  # Check for \"X-Y\" or \"X+Y\" format\n",
        "            (split(col(column), \"[-+]\").getItem(0).cast(\"int\") +\n",
        "             split(col(column), \"[-+]\").getItem(1).cast(\"int\")) / 2  # Compute mean of values\n",
        "        ).otherwise(col(column)))\n",
        "    return df"
      ]
    },
    {
      "cell_type": "code",
      "execution_count": 20,
      "metadata": {
        "id": "Gcs5DMt4EDdv"
      },
      "outputs": [],
      "source": [
        "df = fix_range_values(df)"
      ]
    },
    {
      "cell_type": "code",
      "execution_count": 21,
      "metadata": {
        "id": "cYmUgZ2-_pJ0"
      },
      "outputs": [],
      "source": [
        "def fill_missing_numerical(df):\n",
        "    for column in df.columns:\n",
        "        # Check if column is numeric\n",
        "        if dict(df.dtypes)[column] in ['int', 'double']:\n",
        "            mean_value = df.select(mean(col(column))).collect()[0][0]\n",
        "            if mean_value is not None:  # Only fill if mean is valid\n",
        "                df = df.fillna({column: mean_value})\n",
        "    return df\n",
        "def fill_missing_categorical(df):\n",
        "    for column in df.columns:\n",
        "        # Check if column is categorical (string type)\n",
        "        if dict(df.dtypes)[column] == 'string':\n",
        "            mode_row = df.groupBy(column).count().orderBy(desc(\"count\")).first()\n",
        "\n",
        "            if mode_row and mode_row[0] is not None:  # Check if mode exists\n",
        "                df = df.fillna({column: mode_row[0]})\n",
        "            else:\n",
        "                df = df.fillna({column: \"Unknown\"})  # Fill with 'Unknown' if no mode found\n",
        "\n",
        "    return df\n",
        "def drop_high_missing_columns(df, threshold=0.5):\n",
        "    total_rows = df.count()\n",
        "    for column in df.columns:\n",
        "        missing_count = df.filter(col(column).isNull()).count()\n",
        "        if (missing_count / total_rows) > threshold:  # Drop if more than 50% missing\n",
        "            df = df.drop(column)\n",
        "    return df\n",
        "df = fill_missing_numerical(df)\n",
        "df = fill_missing_categorical(df)\n",
        "df = drop_high_missing_columns(df)"
      ]
    },
    {
      "cell_type": "markdown",
      "source": [
        "**One-Hot Encoding Categorical Features**\n",
        "\n",
        "Converts categorical variables into numerical labels using StringIndexer.Applies One-Hot Encoding to transform categorical columns into numerical vectors."
      ],
      "metadata": {
        "id": "sIransKMEuV8"
      }
    },
    {
      "cell_type": "code",
      "execution_count": 22,
      "metadata": {
        "id": "vhWZvpm6ExYs"
      },
      "outputs": [],
      "source": [
        "categorical_columns = [\"Nationality\", \"Club\", \"Preferred Positions\"]\n",
        "indexed_columns = [col + \"_index\" for col in categorical_columns]\n",
        "encoded_columns = [col + \"_encoded\" for col in categorical_columns]\n",
        "\n",
        "indexers = [StringIndexer(inputCol=col, outputCol=idx_col, handleInvalid=\"keep\") for col, idx_col in zip(categorical_columns, indexed_columns)]\n",
        "encoders = [OneHotEncoder(inputCol=idx_col, outputCol=enc_col) for idx_col, enc_col in zip(indexed_columns, encoded_columns)]\n",
        "\n",
        "pipeline = Pipeline(stages=indexers + encoders)\n",
        "df = pipeline.fit(df).transform(df)\n"
      ]
    },
    {
      "cell_type": "markdown",
      "source": [
        "**Convert Numerical Columns from String to Double**\n",
        "\n",
        "FIFA 18  dataset stores numerical attributes as strings (e.g., \"78+\" or \"85-90\"), which cannot be used directly in ML models.This step ensures all skill attributes are numerical so they can be processed correctly."
      ],
      "metadata": {
        "id": "wQO895RCFCBE"
      }
    },
    {
      "cell_type": "code",
      "execution_count": 23,
      "metadata": {
        "id": "C0hSNo72FEUU"
      },
      "outputs": [],
      "source": [
        "# Convert skill attributes from string to numerical\n",
        "skill_columns = [\"Acceleration\", \"Aggression\", \"Agility\", \"Balance\", \"Ball control\", \"Composure\", \"Crossing\",\n",
        "    \"Curve\", \"Dribbling\", \"Finishing\", \"Free kick accuracy\", \"GK diving\", \"GK handling\", \"GK kicking\",\n",
        "    \"GK positioning\", \"GK reflexes\", \"Heading accuracy\", \"Interceptions\", \"Jumping\", \"Long passing\",\n",
        "    \"Long shots\", \"Marking\", \"Penalties\", \"Positioning\", \"Reactions\", \"Short passing\", \"Shot power\",\n",
        "    \"Sliding tackle\", \"Sprint speed\", \"Stamina\", \"Standing tackle\", \"Strength\", \"Vision\", \"Volleys\"]\n",
        "\n",
        "for col_name in skill_columns:\n",
        "    df = df.withColumn(col_name, regexp_replace(col(col_name), \"[^0-9]\", \"\").cast(\"double\"))"
      ]
    },
    {
      "cell_type": "code",
      "execution_count": 24,
      "metadata": {
        "id": "w4Xrq89TBzFC"
      },
      "outputs": [],
      "source": [
        "feature_columns = [\n",
        "    \"Aggression\", \"Dribbling\", \"Balance\", \"Acceleration\", \"Composure\", \"Ball control\",\n",
        "    \"Finishing\", \"Long passing\", \"Marking\", \"Positioning\", \"Reactions\", \"Short passing\",\n",
        "    \"Shot power\", \"Sliding tackle\", \"Sprint speed\", \"Stamina\", \"Standing tackle\", \"Strength\", \"Vision\",\"Nationality_encoded\", \"Club_encoded\", \"Preferred Positions_encoded\"\n",
        "]\n"
      ]
    },
    {
      "cell_type": "markdown",
      "source": [
        "**Normalization & Standardization**\n",
        "\n",
        "Converts multiple individual numerical columns into a single feature vector.Brings all features to the same scale, preventing large-valued features from dominating.Improves model performance, especially for algorithms sensitive to magnitude differences."
      ],
      "metadata": {
        "id": "F0ZTp9btFuIe"
      }
    },
    {
      "cell_type": "code",
      "execution_count": 25,
      "metadata": {
        "id": "DJP6LpWgFuum"
      },
      "outputs": [],
      "source": [
        "# Drop previous predictions if exist\n",
        "if \"prediction\" in df.columns:\n",
        "    df = df.drop(\"prediction\")\n",
        "# Assemble features before normalization\n",
        "assembler = VectorAssembler(inputCols=feature_columns, outputCol=\"features\")\n",
        "df = assembler.transform(df)\n",
        "\n",
        "# Apply MinMaxScaler for Normalization (scales values between 0 and 1)\n",
        "scaler = MinMaxScaler(inputCol=\"features\", outputCol=\"normalizedFeatures\")\n",
        "df = scaler.fit(df).transform(df)\n",
        "\n",
        "# Apply StandardScaler for Standardization (zero mean and unit variance)\n",
        "std_scaler = StandardScaler(inputCol=\"normalizedFeatures\", outputCol=\"scaledFeatures\", withMean=True, withStd=True)\n",
        "df = std_scaler.fit(df).transform(df)\n",
        "\n",
        "# Apply PCA for dimensionality reduction\n",
        "pca = PCA(k=2, inputCol=\"scaledFeatures\", outputCol=\"pcaFeatures\")\n",
        "df = pca.fit(df).transform(df)\n"
      ]
    },
    {
      "cell_type": "markdown",
      "source": [
        "**Hyperparameter tuning**\n",
        "\n",
        "hyperparameter tuning for K-Means clustering using cross-validation to find the optimal number of clusters (k). The ParamGridBuilder defines different values of k (from 3 to 7), and ClusteringEvaluator evaluates clustering performance. The best model is selected using 3-fold cross-validation, and the optimal number of clusters (best_k) is extracted from the trained model."
      ],
      "metadata": {
        "id": "8Aw6Weojip-h"
      }
    },
    {
      "cell_type": "code",
      "execution_count": 26,
      "metadata": {
        "id": "F9DEJwJEYLHj"
      },
      "outputs": [],
      "source": [
        "kmeans = KMeans(featuresCol=\"pcaFeatures\", seed=42)\n",
        "paramGrid = (ParamGridBuilder()\n",
        "             .addGrid(kmeans.k, [3, 4, 5, 6, 7])\n",
        "             .build())\n",
        "\n",
        "evaluator = ClusteringEvaluator(featuresCol=\"pcaFeatures\")\n",
        "cv = CrossValidator(estimator=kmeans, estimatorParamMaps=paramGrid, evaluator=evaluator, numFolds=3)\n",
        "\n",
        "cv_model = cv.fit(df)\n",
        "df = cv_model.bestModel.transform(df)\n",
        "best_k = cv_model.bestModel.summary.k"
      ]
    },
    {
      "cell_type": "markdown",
      "source": [
        "**Evaluation**\n",
        "\n",
        "It evaluates the clustering performance by computing the Silhouette Score, which measures how well-separated the clusters are. It then identifies the smallest cluster (potential anomalies) by finding the cluster with the fewest data points. Finally, it filters and displays players in this smallest cluster, showing their name, overall rating, value, wage, and assigned cluster."
      ],
      "metadata": {
        "id": "NzQDeAI6jJ_E"
      }
    },
    {
      "cell_type": "code",
      "execution_count": 27,
      "metadata": {
        "colab": {
          "base_uri": "https://localhost:8080/"
        },
        "id": "oEdFmV7gPxN-",
        "outputId": "b166c297-be04-48b5-d439-584036db4e67"
      },
      "outputs": [
        {
          "output_type": "stream",
          "name": "stdout",
          "text": [
            "Best Number of Clusters: 4\n",
            "Best Silhouette Score: 0.7144152632914653\n",
            "+-------------+-------+---------+--------+----------+\n",
            "|         Name|Overall|    Value|    Wage|prediction|\n",
            "+-------------+-------+---------+--------+----------+\n",
            "|   M. Dembélé|   83.0|    2.5E7|115000.0|         3|\n",
            "|  B. Ivanović|   82.0|9000000.0| 73000.0|         3|\n",
            "|    M. Sanson|   81.0|    2.4E7| 34000.0|         3|\n",
            "|    D. Lovren|   81.0|     17.5|110000.0|         3|\n",
            "|T. Stepanenko|   80.0|    1.4E7|  1000.0|         3|\n",
            "|   L. Paredes|   79.0|     16.5| 64000.0|         3|\n",
            "|    V. Darida|   79.0|     14.5| 38000.0|         3|\n",
            "| I. Smolnikov|   79.0|    1.0E7| 71000.0|         3|\n",
            "|     S. Tasci|   79.0|      9.5| 67000.0|         3|\n",
            "|  M. Fellaini|   79.0|    1.2E7|140000.0|         3|\n",
            "+-------------+-------+---------+--------+----------+\n",
            "only showing top 10 rows\n",
            "\n"
          ]
        }
      ],
      "source": [
        "#  Get Best Silhouette Score\n",
        "silhouette_score = evaluator.evaluate(df)\n",
        "print(f\"Best Number of Clusters: {best_k}\")\n",
        "print(f\"Best Silhouette Score: {silhouette_score}\")\n",
        "\n",
        "#Find Anomalies in the Smallest Cluster\n",
        "cluster_counts = df.groupBy(\"prediction\").count()\n",
        "min_cluster = cluster_counts.orderBy(\"count\").first()[\"prediction\"]\n",
        "anomalies = df.filter(col(\"prediction\") == min_cluster)\n",
        "anomalies.select(\"Name\", \"Overall\", \"Value\", \"Wage\", \"prediction\").show(10)"
      ]
    },
    {
      "cell_type": "markdown",
      "source": [
        "**visualization of Anomalies**"
      ],
      "metadata": {
        "id": "DmXOCSeIjUr_"
      }
    },
    {
      "cell_type": "code",
      "execution_count": 28,
      "metadata": {
        "colab": {
          "base_uri": "https://localhost:8080/",
          "height": 564
        },
        "id": "TJt-12cAYbEK",
        "outputId": "c4196a73-7db4-46fe-e0f4-ed5cecd2f9da"
      },
      "outputs": [
        {
          "output_type": "display_data",
          "data": {
            "text/plain": [
              "<Figure size 800x600 with 1 Axes>"
            ],
            "image/png": "[encoded data removed]"
          },
          "metadata": {}
        }
      ],
      "source": [
        "# Visualize Anomalies\n",
        "predictions_pd = anomalies.select(\"Overall\", \"Value\", \"Wage\").toPandas()\n",
        "plt.figure(figsize=(8, 6))\n",
        "plt.scatter(predictions_pd[\"Overall\"], predictions_pd[\"Value\"], color='red', alpha=0.6, label=\"Anomalies\")\n",
        "plt.xlabel(\"Overall Performance\")\n",
        "plt.ylabel(\"Market Value\")\n",
        "plt.title(\"Anomalies in Player Performance\")\n",
        "plt.legend()\n",
        "plt.show()"
      ]
    },
    {
      "cell_type": "markdown",
      "source": [
        "This scatter plot highlights anomalies in player performance by comparing Overall Performance with Market Value, where red points indicate detected outliers. Most players exhibit a proportional relationship between performance and market value, but some anomalies deviate significantly. Overvalued players, with high market value despite moderate performance, suggest market hype or financial influence, while undervalued players could be hidden gems for scouting. The flat-lining of market value at lower performance levels suggests potential data inconsistencies or undervaluation trends. This analysis aids clubs and analysts in identifying market inefficiencies, helping them make informed transfer and investment decisions."
      ],
      "metadata": {
        "id": "cQN3ClgecmTU"
      }
    }
  ],
  "metadata": {
    "accelerator": "GPU",
    "colab": {
      "gpuType": "T4",
      "provenance": []
    },
    "kernelspec": {
      "display_name": "Python 3",
      "name": "python3"
    },
    "language_info": {
      "name": "python"
    }
  },
  "nbformat": 4,
  "nbformat_minor": 0
}